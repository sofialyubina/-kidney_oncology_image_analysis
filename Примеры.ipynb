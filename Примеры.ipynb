{
  "nbformat": 4,
  "nbformat_minor": 0,
  "metadata": {
    "colab": {
      "provenance": [],
      "include_colab_link": true
    },
    "kernelspec": {
      "name": "python3",
      "display_name": "Python 3"
    },
    "language_info": {
      "name": "python"
    }
  },
  "cells": [
    {
      "cell_type": "markdown",
      "metadata": {
        "id": "view-in-github",
        "colab_type": "text"
      },
      "source": [
        "<a href=\"https://colab.research.google.com/github/sofialyubina/-kidney_oncology_image_analysis/blob/main/%D0%9F%D1%80%D0%B8%D0%BC%D0%B5%D1%80%D1%8B.ipynb\" target=\"_parent\"><img src=\"https://colab.research.google.com/assets/colab-badge.svg\" alt=\"Open In Colab\"/></a>"
      ]
    },
    {
      "cell_type": "code",
      "source": [
        "%pip install opencv-python"
      ],
      "metadata": {
        "id": "DraGXsxXnE1L"
      },
      "execution_count": null,
      "outputs": []
    },
    {
      "cell_type": "code",
      "source": [
        "%pip install scikit-image"
      ],
      "metadata": {
        "id": "7JJiX7NinHWO"
      },
      "execution_count": null,
      "outputs": []
    },
    {
      "cell_type": "code",
      "source": [
        "%pip install seaborn"
      ],
      "metadata": {
        "id": "GMqMN5ZynIcS"
      },
      "execution_count": null,
      "outputs": []
    },
    {
      "cell_type": "code",
      "execution_count": null,
      "metadata": {
        "id": "MrISyQFYkQL5"
      },
      "outputs": [],
      "source": [
        "import numpy as np\n",
        "import cv2 as cv\n",
        "import cv2 as cv2\n",
        "from matplotlib import pyplot as plt\n",
        "from google.colab.patches import cv2_imshow"
      ]
    },
    {
      "cell_type": "code",
      "source": [
        "!pip install ipywidgets\n",
        "# To enable `ipywidgets`\n",
        "!jupyter nbextension enable --py widgetsnbextension\n",
        "!pip install pillow"
      ],
      "metadata": {
        "id": "wS9GNioDkSFb"
      },
      "execution_count": null,
      "outputs": []
    },
    {
      "cell_type": "code",
      "source": [
        "import pandas as pd\n",
        "from ipywidgets import widgets\n",
        "from IPython.display import display\n",
        "from ipywidgets import interact, interactive, fixed, interact_manual\n",
        "from PIL import Image\n",
        "from sklearn.cluster import KMeans"
      ],
      "metadata": {
        "id": "gGPHCPYrkTtJ"
      },
      "execution_count": null,
      "outputs": []
    },
    {
      "cell_type": "code",
      "source": [
        "from numpy.core.records import array\n",
        "from sklearn.preprocessing import StandardScaler\n",
        "import sklearn.neighbors\n",
        "import sklearn.gaussian_process\n",
        "import sklearn.tree\n",
        "import sklearn.ensemble\n",
        "import sklearn.svm\n",
        "import sklearn.linear_model\n",
        "import sklearn.neural_network\n",
        "import sklearn.dummy\n",
        "from sklearn.metrics import confusion_matrix"
      ],
      "metadata": {
        "id": "E9wQRlq6nOID"
      },
      "execution_count": null,
      "outputs": []
    },
    {
      "cell_type": "code",
      "source": [
        "image = Image.open('mazok.jpg')\n",
        "imagenp = np.array(image)\n",
        "red = imagenp[:,:,0]\n",
        "plt.imshow(red, cmap='gray')"
      ],
      "metadata": {
        "id": "VjhiR8VbkW3c"
      },
      "execution_count": null,
      "outputs": []
    },
    {
      "cell_type": "code",
      "source": [
        "pix = imagenp.reshape(-1,3)\n",
        "num_clusters= 5\n",
        "kmeans = KMeans(n_clusters=num_clusters, random_state=0)\n",
        "labels = kmeans.fit_predict(pix)\n",
        "segment = labels.reshape(imagenp.shape[:2])\n",
        "plt.imshow(segment)"
      ],
      "metadata": {
        "id": "N8UzQRRUkdtC"
      },
      "execution_count": null,
      "outputs": []
    },
    {
      "cell_type": "code",
      "source": [
        "image = cv2.imread('mazok.jpg')\n",
        "gray = cv2.cvtColor(image, cv2.COLOR_BGR2GRAY)\n",
        "_, thresh = cv2.threshold(gray, 0, 255, cv2.THRESH_BINARY_INV + cv2.THRESH_OTSU)\n",
        "kernel = np.ones((3,3), np.uint8)\n",
        "opening = cv2.morphologyEx(thresh, cv2.MORPH_OPEN, kernel, iterations=2)\n",
        "sure_bg = cv2.dilate(opening, kernel, iterations=3)\n",
        "dist_transform = cv2.distanceTransform(opening, cv2.DIST_L2, 5)\n",
        "_, sure_fg = cv2.threshold(dist_transform, 0.7 * dist_transform.max(), 255, 0)\n",
        "sure_fg = np.uint8(sure_fg)\n",
        "unknown = cv2.subtract(sure_bg, sure_fg)\n",
        "\n",
        "_, markers = cv2.connectedComponents(sure_fg)\n",
        "\n",
        "markers = markers + 1\n",
        "\n",
        "markers[unknown == 255] = 0\n",
        "\n",
        "markers = cv2.watershed(image, markers)\n",
        "\n",
        "image[markers == -1] = [255, 0, 0]"
      ],
      "metadata": {
        "id": "7OzLpaY2kjXl"
      },
      "execution_count": null,
      "outputs": []
    },
    {
      "cell_type": "code",
      "source": [
        "import pydicom\n",
        "ds = pydicom.dcmread('1-1.dcm')\n",
        "pixel_data = ds.pixel_array\n",
        "plt.imshow(pixel_data[451], cmap=plt.cm.gray)"
      ],
      "metadata": {
        "id": "QlawHZuAkr3H"
      },
      "execution_count": null,
      "outputs": []
    },
    {
      "cell_type": "code",
      "source": [
        "# Медианный фильтр\n",
        "def func4(x):\n",
        "  # Применяем медианный фильтр с маской размера x(7 по умолчанию)\n",
        "  median_image  = cv2.medianBlur(my_photo,x)\n",
        "  Hori = np.concatenate((img, median_image), axis=1)\n",
        "  cv2_imshow(Hori)\n",
        "\n",
        "interact(func4, x=widgets.IntSlider(min=1,max=20,step=2,value=7))"
      ],
      "metadata": {
        "id": "OJL35hABk0Gc"
      },
      "execution_count": null,
      "outputs": []
    },
    {
      "cell_type": "code",
      "source": [
        "img_grey = cv2.cvtColor(my_photo2,cv2.COLOR_BGR2GRAY)\n",
        "ret,thresh_img = cv2.threshold(img_grey, thresh, 255, cv2.THRESH_BINARY)\n",
        "contours, hierarchy = cv2.findContours(thresh_img, cv2.RETR_TREE, cv2.CHAIN_APPROX_SIMPLE)\n",
        "img_contours = np.zeros(my_photo.shape)\n",
        "cv2.drawContours(img_contours, contours, -1, (255,255,255), 1)"
      ],
      "metadata": {
        "id": "2lrap6R3keoW"
      },
      "execution_count": null,
      "outputs": []
    },
    {
      "cell_type": "code",
      "source": [
        "import skimage.feature as feature\n",
        "\n",
        "\n",
        "# List of pixel pair distance offsets - here 1 in each direction\n",
        "# List of pixel pair angles in radians\n",
        "graycom = feature.greycomatrix(gray, [1], [0, np.pi/4, np.pi/2, 3*np.pi/4], levels=256)\n",
        "\n",
        "# Find the GLCM properties\n",
        "list_of_features  = []\n",
        "contrast = feature.greycoprops(graycom, 'contrast')\n",
        "for item in contrast[0]:\n",
        "  list_of_features.append(float(item))"
      ],
      "metadata": {
        "id": "nsC9DS9wlPtK"
      },
      "execution_count": null,
      "outputs": []
    },
    {
      "cell_type": "code",
      "source": [
        "clf = sklearn.neighbors.KNeighborsClassifier(n_neighbors=10, weights='distance', n_jobs=3)\n",
        "model = clf.fit(X_train, Y_train)\n",
        "Y_pred = clf.predict(X_test)\n",
        "print(confusion_matrix(Y_test, Y_pred))"
      ],
      "metadata": {
        "id": "K9UYfLc2mvWd"
      },
      "execution_count": null,
      "outputs": []
    }
  ]
}